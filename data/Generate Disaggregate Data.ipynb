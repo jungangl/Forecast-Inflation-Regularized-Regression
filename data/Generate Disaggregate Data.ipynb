{
 "cells": [
  {
   "cell_type": "code",
   "execution_count": 2,
   "metadata": {
    "scrolled": false
   },
   "outputs": [
    {
     "ename": "LoadError",
     "evalue": "chdir /Users/jpiger/Desktop/Work/Research/Forecasting Inflation with Disaggregated Data/Programs: no such file or directory (ENOENT)",
     "output_type": "error",
     "traceback": [
      "chdir /Users/jpiger/Desktop/Work/Research/Forecasting Inflation with Disaggregated Data/Programs: no such file or directory (ENOENT)",
      "",
      " in uv_error at ./libuv.jl:68 [inlined]",
      " in cd(::String) at ./file.jl:39",
      " in cd(::String) at /Applications/Julia-0.5.app/Contents/Resources/julia/lib/julia/sys.dylib:?",
      " in include_string(::String, ::String) at ./loading.jl:441",
      " in include_string(::String, ::String) at /Applications/Julia-0.5.app/Contents/Resources/julia/lib/julia/sys.dylib:?"
     ]
    }
   ],
   "source": [
    "using Distributions\n",
    "using Plots\n",
    "using CSV\n",
    "\n",
    "cd(\"/Users/jpiger/Desktop/Work/Research/Forecasting Inflation with Disaggregated Data/Programs\")\n",
    "\n",
    "# Generate aggregate data that is the weighted sum of the disaggregate data. The disaggregated data is \n",
    "# generated as a persistent common factor plus a persistent idiosyncratic component.\n",
    "\n",
    "# Set random seed\n",
    "srand(1974)\n",
    "\n",
    "# Generate the Common Factor\n",
    "\n",
    "alpha = 0.9\n",
    "T = 200\n",
    "CF = zeros(T + 1,1)\n",
    "\n",
    "for t in 1:T\n",
    "    CF[t+1] = (alpha*CF[t]) + randn()\n",
    "end\n",
    "\n",
    "CF = CF[2:T+1,1]\n",
    "\n",
    "# Generate N series that equal the common factor plus an idiosyncratic AR(1) component. \n",
    "N=10\n",
    "\n",
    "# Generate the idiosyncratic components\n",
    "alphas = 0.9\n",
    "T = 200\n",
    "\n",
    "idio_series = zeros(T,N)\n",
    "\n",
    "for j in 1:10\n",
    "    x = zeros(T + 1)\n",
    "    for t in 1:T\n",
    "        x[t+1] = (alpha*x[t]) + 2*randn()\n",
    "    end\n",
    "    x = x[2:T+1,1]\n",
    "    idio_series[:,j] = x\n",
    "end\n",
    "\n",
    "# Add the idiosyncratic components to the common factor\n",
    "series = idio_series .+ CF\n",
    "\n",
    "# Create the aggregate variable\n",
    "\n",
    "weights = (1/N).*ones(N,1)\n",
    "\n",
    "agg_series = series*weights\n",
    "\n",
    "plot([agg_series CF])\n",
    "\n",
    "f = \"agg_disagg_data.csv\"\n",
    "writecsv(f, [agg_series series])"
   ]
  },
  {
   "cell_type": "code",
   "execution_count": null,
   "metadata": {
    "collapsed": true
   },
   "outputs": [],
   "source": []
  }
 ],
 "metadata": {
  "kernelspec": {
   "display_name": "Julia 0.5.1",
   "language": "julia",
   "name": "julia-0.5"
  },
  "language_info": {
   "file_extension": ".jl",
   "mimetype": "application/julia",
   "name": "julia",
   "version": "0.5.1"
  }
 },
 "nbformat": 4,
 "nbformat_minor": 2
}
